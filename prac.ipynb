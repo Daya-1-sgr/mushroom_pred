{
 "cells": [
  {
   "cell_type": "code",
   "execution_count": 12,
   "metadata": {},
   "outputs": [],
   "source": [
    "import pandas as pd\n",
    "import numpy as np\n",
    "import pickle\n",
    "from sklearn.preprocessing import LabelEncoder"
   ]
  },
  {
   "cell_type": "code",
   "execution_count": 13,
   "metadata": {},
   "outputs": [],
   "source": [
    "selections={ \"bruises\": \"t\",\n",
    "  \"cap-color\": \"b\",\n",
    "  \"cap-shape\": \"c\",\n",
    "  \"cap-surface\": \"y\",\n",
    "  \"gill-color\": \"o\",\n",
    "  \"gill-size\": \"b\",\n",
    "  \"gill-spacing\": \"c\",\n",
    "  \"habitat\": \"m\",\n",
    "  \"odor\": \"m\",\n",
    "  \"population\": \"s\",\n",
    "  \"ring-number\": \"t\",\n",
    "  \"ring-type\": \"p\",\n",
    "  \"spore-print-color\": \"h\",\n",
    "  \"stalk-color-above-ring\": \"c\",\n",
    "  \"stalk-color-below-ring\": \"o\",\n",
    "  \"stalk-root\": \"u\",\n",
    "  \"stalk-shape\": \"t\",\n",
    "  \"stalk-surface-above-ring\": \"y\",\n",
    "  \"stalk-surface-below-ring\": \"k\",\n",
    "  \"veil-color\": \"n\",\n",
    "  \"veil-type\": \"u\"\n",
    "}"
   ]
  },
  {
   "cell_type": "code",
   "execution_count": 14,
   "metadata": {},
   "outputs": [],
   "source": [
    "column=['cap-shape', 'cap-surface', 'cap-color', 'bruises', 'odor',\n",
    "        'gill-spacing', 'gill-size', 'gill-color',\n",
    "       'stalk-shape', 'stalk-root', 'stalk-surface-above-ring',\n",
    "       'stalk-surface-below-ring', 'stalk-color-above-ring',\n",
    "       'stalk-color-below-ring', 'veil-type', 'veil-color', 'ring-number',\n",
    "       'ring-type', 'spore-print-color', 'population', 'habitat']"
   ]
  },
  {
   "cell_type": "code",
   "execution_count": 15,
   "metadata": {},
   "outputs": [],
   "source": [
    "attributes = {\n",
    "    'cap-shape': {\n",
    "        'bell': 'b',\n",
    "        'conical': 'c',\n",
    "        'convex': 'x',\n",
    "        'flat': 'f',\n",
    "        'knobbed': 'k',\n",
    "        'sunken': 's'\n",
    "    },\n",
    "    'cap-surface': {\n",
    "        'fibrous': 'f',\n",
    "        'grooves': 'g',\n",
    "        'scaly': 'y',\n",
    "        'smooth': 's'\n",
    "    },\n",
    "    'cap-color': {\n",
    "        'brown': 'n',\n",
    "        'buff': 'b',\n",
    "        'cinnamon': 'c',\n",
    "        'gray': 'g',\n",
    "        'green': 'r',\n",
    "        'pink': 'p',\n",
    "        'purple': 'u',\n",
    "        'red': 'e',\n",
    "        'white': 'w',\n",
    "        'yellow': 'y'\n",
    "    },\n",
    "    'bruises': {\n",
    "        'bruises': 't',\n",
    "        'no': 'f'\n",
    "    },\n",
    "    'odor': {\n",
    "        'almond': 'a',\n",
    "        'anise': 'l',\n",
    "        'creosote': 'c',\n",
    "        'fishy': 'y',\n",
    "        'foul': 'f',\n",
    "        'musty': 'm',\n",
    "        'none': 'n',\n",
    "        'pungent': 'p',\n",
    "        'spicy': 's'\n",
    "    },\n",
    "\n",
    "    'gill-spacing': {\n",
    "        'close': 'c',\n",
    "        'crowded': 'w',\n",
    "        'distant': 'd'\n",
    "    },\n",
    "    'gill-size': {\n",
    "        'broad': 'b',\n",
    "        'narrow': 'n'\n",
    "    },\n",
    "    'gill-color': {\n",
    "        'black': 'k',\n",
    "        'brown': 'n',\n",
    "        'buff': 'b',\n",
    "        'chocolate': 'h',\n",
    "        'gray': 'g',\n",
    "        'green': 'r',\n",
    "        'orange': 'o',\n",
    "        'pink': 'p',\n",
    "        'purple': 'u',\n",
    "        'red': 'e',\n",
    "        'white': 'w',\n",
    "        'yellow': 'y'\n",
    "    },\n",
    "    'stalk-shape': {\n",
    "        'enlarging': 'e',\n",
    "        'tapering': 't'\n",
    "    },\n",
    "    'stalk-root': {\n",
    "        'bulbous': 'b',\n",
    "        'club': 'c',\n",
    "        'cup': 'u',\n",
    "        'equal': 'e',\n",
    "        'rhizomorphs': 'z',\n",
    "        'rooted': 'r',\n",
    "        'missing': '?'\n",
    "    },\n",
    "    'stalk-surface-above-ring': {\n",
    "        'fibrous': 'f',\n",
    "        'scaly': 'y',\n",
    "        'silky': 'k',\n",
    "        'smooth': 's'\n",
    "    },\n",
    "    'stalk-surface-below-ring': {\n",
    "        'fibrous': 'f',\n",
    "        'scaly': 'y',\n",
    "        'silky': 'k',\n",
    "        'smooth': 's'\n",
    "    },\n",
    "    'stalk-color-above-ring': {\n",
    "        'brown': 'n',\n",
    "        'buff': 'b',\n",
    "        'cinnamon': 'c',\n",
    "        'gray': 'g',\n",
    "        'orange': 'o',\n",
    "        'pink': 'p',\n",
    "        'red': 'e',\n",
    "        'white': 'w',\n",
    "        'yellow': 'y'\n",
    "    },\n",
    "    'stalk-color-below-ring': {\n",
    "        'brown': 'n',\n",
    "        'buff': 'b',\n",
    "        'cinnamon': 'c',\n",
    "        'gray': 'g',\n",
    "        'orange': 'o',\n",
    "        'pink': 'p',\n",
    "        'red': 'e',\n",
    "        'white': 'w',\n",
    "        'yellow': 'y'\n",
    "    },\n",
    "    'veil-type': {\n",
    "        'partial': 'p',\n",
    "        'universal': 'u'\n",
    "    },\n",
    "    'veil-color': {\n",
    "        'brown': 'n',\n",
    "        'orange': 'o',\n",
    "        'white': 'w',\n",
    "        'yellow': 'y'\n",
    "    },\n",
    "    'ring-number': {\n",
    "        'none': 'n',\n",
    "        'one': 'o',\n",
    "        'two': 't'\n",
    "    },\n",
    "    'ring-type': {\n",
    "        'cobwebby': 'c',\n",
    "        'evanescent': 'e',\n",
    "        'flaring': 'f',\n",
    "        'large': 'l',\n",
    "        'none': 'n',\n",
    "        'pendant': 'p',\n",
    "        'sheathing': 's',\n",
    "        'zone': 'z'\n",
    "    },\n",
    "    'spore-print-color': {\n",
    "        'black': 'k',\n",
    "        'brown': 'n',\n",
    "        'buff': 'b',\n",
    "        'chocolate': 'h',\n",
    "        'green': 'r',\n",
    "        'orange': 'o',\n",
    "        'purple': 'u',\n",
    "        'white': 'w',\n",
    "        'yellow': 'y'\n",
    "    },\n",
    "    'population': {\n",
    "        'abundant': 'a',\n",
    "        'clustered': 'c',\n",
    "        'numerous': 'n',\n",
    "        'scattered': 's',\n",
    "        'several': 'v',\n",
    "        'solitary': 'y'\n",
    "    },\n",
    "    'habitat': {\n",
    "        'grasses': 'g',\n",
    "        'leaves': 'l',\n",
    "        'meadows': 'm',\n",
    "        'paths': 'p',\n",
    "        'urban': 'u',\n",
    "        'waste': 'w',\n",
    "        'woods': 'd'\n",
    "    }\n",
    "}"
   ]
  },
  {
   "cell_type": "code",
   "execution_count": 16,
   "metadata": {},
   "outputs": [],
   "source": [
    "label_encod=pickle.load(open('label_encoders_set.pkl','rb'))"
   ]
  },
  {
   "cell_type": "code",
   "execution_count": 17,
   "metadata": {},
   "outputs": [
    {
     "name": "stdout",
     "output_type": "stream",
     "text": [
      "<class 'dict'>\n"
     ]
    }
   ],
   "source": [
    "print(type(label_encod))"
   ]
  },
  {
   "cell_type": "code",
   "execution_count": 18,
   "metadata": {},
   "outputs": [
    {
     "name": "stderr",
     "output_type": "stream",
     "text": [
      "C:\\Users\\DAYABAN\\AppData\\Local\\Packages\\PythonSoftwareFoundation.Python.3.11_qbz5n2kfra8p0\\LocalCache\\local-packages\\Python311\\site-packages\\sklearn\\preprocessing\\_label.py:132: DataConversionWarning: A column-vector y was passed when a 1d array was expected. Please change the shape of y to (n_samples, ), for example using ravel().\n",
      "  y = column_or_1d(y, dtype=self.classes_.dtype, warn=True)\n",
      "C:\\Users\\DAYABAN\\AppData\\Local\\Packages\\PythonSoftwareFoundation.Python.3.11_qbz5n2kfra8p0\\LocalCache\\local-packages\\Python311\\site-packages\\sklearn\\preprocessing\\_label.py:132: DataConversionWarning: A column-vector y was passed when a 1d array was expected. Please change the shape of y to (n_samples, ), for example using ravel().\n",
      "  y = column_or_1d(y, dtype=self.classes_.dtype, warn=True)\n",
      "C:\\Users\\DAYABAN\\AppData\\Local\\Packages\\PythonSoftwareFoundation.Python.3.11_qbz5n2kfra8p0\\LocalCache\\local-packages\\Python311\\site-packages\\sklearn\\preprocessing\\_label.py:132: DataConversionWarning: A column-vector y was passed when a 1d array was expected. Please change the shape of y to (n_samples, ), for example using ravel().\n",
      "  y = column_or_1d(y, dtype=self.classes_.dtype, warn=True)\n",
      "C:\\Users\\DAYABAN\\AppData\\Local\\Packages\\PythonSoftwareFoundation.Python.3.11_qbz5n2kfra8p0\\LocalCache\\local-packages\\Python311\\site-packages\\sklearn\\preprocessing\\_label.py:132: DataConversionWarning: A column-vector y was passed when a 1d array was expected. Please change the shape of y to (n_samples, ), for example using ravel().\n",
      "  y = column_or_1d(y, dtype=self.classes_.dtype, warn=True)\n",
      "C:\\Users\\DAYABAN\\AppData\\Local\\Packages\\PythonSoftwareFoundation.Python.3.11_qbz5n2kfra8p0\\LocalCache\\local-packages\\Python311\\site-packages\\sklearn\\preprocessing\\_label.py:132: DataConversionWarning: A column-vector y was passed when a 1d array was expected. Please change the shape of y to (n_samples, ), for example using ravel().\n",
      "  y = column_or_1d(y, dtype=self.classes_.dtype, warn=True)\n",
      "C:\\Users\\DAYABAN\\AppData\\Local\\Packages\\PythonSoftwareFoundation.Python.3.11_qbz5n2kfra8p0\\LocalCache\\local-packages\\Python311\\site-packages\\sklearn\\preprocessing\\_label.py:132: DataConversionWarning: A column-vector y was passed when a 1d array was expected. Please change the shape of y to (n_samples, ), for example using ravel().\n",
      "  y = column_or_1d(y, dtype=self.classes_.dtype, warn=True)\n",
      "C:\\Users\\DAYABAN\\AppData\\Local\\Packages\\PythonSoftwareFoundation.Python.3.11_qbz5n2kfra8p0\\LocalCache\\local-packages\\Python311\\site-packages\\sklearn\\preprocessing\\_label.py:132: DataConversionWarning: A column-vector y was passed when a 1d array was expected. Please change the shape of y to (n_samples, ), for example using ravel().\n",
      "  y = column_or_1d(y, dtype=self.classes_.dtype, warn=True)\n",
      "C:\\Users\\DAYABAN\\AppData\\Local\\Packages\\PythonSoftwareFoundation.Python.3.11_qbz5n2kfra8p0\\LocalCache\\local-packages\\Python311\\site-packages\\sklearn\\preprocessing\\_label.py:132: DataConversionWarning: A column-vector y was passed when a 1d array was expected. Please change the shape of y to (n_samples, ), for example using ravel().\n",
      "  y = column_or_1d(y, dtype=self.classes_.dtype, warn=True)\n",
      "C:\\Users\\DAYABAN\\AppData\\Local\\Packages\\PythonSoftwareFoundation.Python.3.11_qbz5n2kfra8p0\\LocalCache\\local-packages\\Python311\\site-packages\\sklearn\\preprocessing\\_label.py:132: DataConversionWarning: A column-vector y was passed when a 1d array was expected. Please change the shape of y to (n_samples, ), for example using ravel().\n",
      "  y = column_or_1d(y, dtype=self.classes_.dtype, warn=True)\n",
      "C:\\Users\\DAYABAN\\AppData\\Local\\Packages\\PythonSoftwareFoundation.Python.3.11_qbz5n2kfra8p0\\LocalCache\\local-packages\\Python311\\site-packages\\sklearn\\preprocessing\\_label.py:132: DataConversionWarning: A column-vector y was passed when a 1d array was expected. Please change the shape of y to (n_samples, ), for example using ravel().\n",
      "  y = column_or_1d(y, dtype=self.classes_.dtype, warn=True)\n"
     ]
    },
    {
     "ename": "ValueError",
     "evalue": "y contains previously unseen labels: 'u'",
     "output_type": "error",
     "traceback": [
      "\u001b[1;31m---------------------------------------------------------------------------\u001b[0m",
      "\u001b[1;31mKeyError\u001b[0m                                  Traceback (most recent call last)",
      "File \u001b[1;32m~\\AppData\\Local\\Packages\\PythonSoftwareFoundation.Python.3.11_qbz5n2kfra8p0\\LocalCache\\local-packages\\Python311\\site-packages\\sklearn\\utils\\_encode.py:225\u001b[0m, in \u001b[0;36m_encode\u001b[1;34m(values, uniques, check_unknown)\u001b[0m\n\u001b[0;32m    224\u001b[0m \u001b[38;5;28;01mtry\u001b[39;00m:\n\u001b[1;32m--> 225\u001b[0m     \u001b[38;5;28;01mreturn\u001b[39;00m \u001b[43m_map_to_integer\u001b[49m\u001b[43m(\u001b[49m\u001b[43mvalues\u001b[49m\u001b[43m,\u001b[49m\u001b[43m \u001b[49m\u001b[43muniques\u001b[49m\u001b[43m)\u001b[49m\n\u001b[0;32m    226\u001b[0m \u001b[38;5;28;01mexcept\u001b[39;00m \u001b[38;5;167;01mKeyError\u001b[39;00m \u001b[38;5;28;01mas\u001b[39;00m e:\n",
      "File \u001b[1;32m~\\AppData\\Local\\Packages\\PythonSoftwareFoundation.Python.3.11_qbz5n2kfra8p0\\LocalCache\\local-packages\\Python311\\site-packages\\sklearn\\utils\\_encode.py:165\u001b[0m, in \u001b[0;36m_map_to_integer\u001b[1;34m(values, uniques)\u001b[0m\n\u001b[0;32m    164\u001b[0m table \u001b[38;5;241m=\u001b[39m _nandict({val: i \u001b[38;5;28;01mfor\u001b[39;00m i, val \u001b[38;5;129;01min\u001b[39;00m \u001b[38;5;28menumerate\u001b[39m(uniques)})\n\u001b[1;32m--> 165\u001b[0m \u001b[38;5;28;01mreturn\u001b[39;00m np\u001b[38;5;241m.\u001b[39marray(\u001b[43m[\u001b[49m\u001b[43mtable\u001b[49m\u001b[43m[\u001b[49m\u001b[43mv\u001b[49m\u001b[43m]\u001b[49m\u001b[43m \u001b[49m\u001b[38;5;28;43;01mfor\u001b[39;49;00m\u001b[43m \u001b[49m\u001b[43mv\u001b[49m\u001b[43m \u001b[49m\u001b[38;5;129;43;01min\u001b[39;49;00m\u001b[43m \u001b[49m\u001b[43mvalues\u001b[49m\u001b[43m]\u001b[49m)\n",
      "File \u001b[1;32m~\\AppData\\Local\\Packages\\PythonSoftwareFoundation.Python.3.11_qbz5n2kfra8p0\\LocalCache\\local-packages\\Python311\\site-packages\\sklearn\\utils\\_encode.py:165\u001b[0m, in \u001b[0;36m<listcomp>\u001b[1;34m(.0)\u001b[0m\n\u001b[0;32m    164\u001b[0m table \u001b[38;5;241m=\u001b[39m _nandict({val: i \u001b[38;5;28;01mfor\u001b[39;00m i, val \u001b[38;5;129;01min\u001b[39;00m \u001b[38;5;28menumerate\u001b[39m(uniques)})\n\u001b[1;32m--> 165\u001b[0m \u001b[38;5;28;01mreturn\u001b[39;00m np\u001b[38;5;241m.\u001b[39marray([\u001b[43mtable\u001b[49m\u001b[43m[\u001b[49m\u001b[43mv\u001b[49m\u001b[43m]\u001b[49m \u001b[38;5;28;01mfor\u001b[39;00m v \u001b[38;5;129;01min\u001b[39;00m values])\n",
      "File \u001b[1;32m~\\AppData\\Local\\Packages\\PythonSoftwareFoundation.Python.3.11_qbz5n2kfra8p0\\LocalCache\\local-packages\\Python311\\site-packages\\sklearn\\utils\\_encode.py:159\u001b[0m, in \u001b[0;36m_nandict.__missing__\u001b[1;34m(self, key)\u001b[0m\n\u001b[0;32m    158\u001b[0m     \u001b[38;5;28;01mreturn\u001b[39;00m \u001b[38;5;28mself\u001b[39m\u001b[38;5;241m.\u001b[39mnan_value\n\u001b[1;32m--> 159\u001b[0m \u001b[38;5;28;01mraise\u001b[39;00m \u001b[38;5;167;01mKeyError\u001b[39;00m(key)\n",
      "\u001b[1;31mKeyError\u001b[0m: 'u'",
      "\nDuring handling of the above exception, another exception occurred:\n",
      "\u001b[1;31mValueError\u001b[0m                                Traceback (most recent call last)",
      "Cell \u001b[1;32mIn[18], line 5\u001b[0m\n\u001b[0;32m      3\u001b[0m     x\u001b[38;5;241m=\u001b[39mselections\u001b[38;5;241m.\u001b[39mget(col,\u001b[38;5;28;01mNone\u001b[39;00m)\n\u001b[0;32m      4\u001b[0m     y\u001b[38;5;241m=\u001b[39mlabel_encod\u001b[38;5;241m.\u001b[39mget(col,\u001b[38;5;28;01mNone\u001b[39;00m)\n\u001b[1;32m----> 5\u001b[0m     res\u001b[38;5;241m=\u001b[39m\u001b[43my\u001b[49m\u001b[38;5;241;43m.\u001b[39;49m\u001b[43mtransform\u001b[49m\u001b[43m(\u001b[49m\u001b[43mnp\u001b[49m\u001b[38;5;241;43m.\u001b[39;49m\u001b[43marray\u001b[49m\u001b[43m(\u001b[49m\u001b[43mx\u001b[49m\u001b[43m)\u001b[49m\u001b[38;5;241;43m.\u001b[39;49m\u001b[43mreshape\u001b[49m\u001b[43m(\u001b[49m\u001b[38;5;241;43m1\u001b[39;49m\u001b[43m,\u001b[49m\u001b[38;5;241;43m-\u001b[39;49m\u001b[38;5;241;43m1\u001b[39;49m\u001b[43m)\u001b[49m\u001b[43m)\u001b[49m\n\u001b[0;32m      6\u001b[0m     encoded_input\u001b[38;5;241m.\u001b[39mappend(res)\n\u001b[0;32m      7\u001b[0m enc_arr\u001b[38;5;241m=\u001b[39mnp\u001b[38;5;241m.\u001b[39marray(encoded_input)\u001b[38;5;241m.\u001b[39mreshape(\u001b[38;5;241m1\u001b[39m,\u001b[38;5;241m-\u001b[39m\u001b[38;5;241m1\u001b[39m)\n",
      "File \u001b[1;32m~\\AppData\\Local\\Packages\\PythonSoftwareFoundation.Python.3.11_qbz5n2kfra8p0\\LocalCache\\local-packages\\Python311\\site-packages\\sklearn\\preprocessing\\_label.py:137\u001b[0m, in \u001b[0;36mLabelEncoder.transform\u001b[1;34m(self, y)\u001b[0m\n\u001b[0;32m    134\u001b[0m \u001b[38;5;28;01mif\u001b[39;00m _num_samples(y) \u001b[38;5;241m==\u001b[39m \u001b[38;5;241m0\u001b[39m:\n\u001b[0;32m    135\u001b[0m     \u001b[38;5;28;01mreturn\u001b[39;00m np\u001b[38;5;241m.\u001b[39marray([])\n\u001b[1;32m--> 137\u001b[0m \u001b[38;5;28;01mreturn\u001b[39;00m \u001b[43m_encode\u001b[49m\u001b[43m(\u001b[49m\u001b[43my\u001b[49m\u001b[43m,\u001b[49m\u001b[43m \u001b[49m\u001b[43muniques\u001b[49m\u001b[38;5;241;43m=\u001b[39;49m\u001b[38;5;28;43mself\u001b[39;49m\u001b[38;5;241;43m.\u001b[39;49m\u001b[43mclasses_\u001b[49m\u001b[43m)\u001b[49m\n",
      "File \u001b[1;32m~\\AppData\\Local\\Packages\\PythonSoftwareFoundation.Python.3.11_qbz5n2kfra8p0\\LocalCache\\local-packages\\Python311\\site-packages\\sklearn\\utils\\_encode.py:227\u001b[0m, in \u001b[0;36m_encode\u001b[1;34m(values, uniques, check_unknown)\u001b[0m\n\u001b[0;32m    225\u001b[0m         \u001b[38;5;28;01mreturn\u001b[39;00m _map_to_integer(values, uniques)\n\u001b[0;32m    226\u001b[0m     \u001b[38;5;28;01mexcept\u001b[39;00m \u001b[38;5;167;01mKeyError\u001b[39;00m \u001b[38;5;28;01mas\u001b[39;00m e:\n\u001b[1;32m--> 227\u001b[0m         \u001b[38;5;28;01mraise\u001b[39;00m \u001b[38;5;167;01mValueError\u001b[39;00m(\u001b[38;5;124mf\u001b[39m\u001b[38;5;124m\"\u001b[39m\u001b[38;5;124my contains previously unseen labels: \u001b[39m\u001b[38;5;132;01m{\u001b[39;00m\u001b[38;5;28mstr\u001b[39m(e)\u001b[38;5;132;01m}\u001b[39;00m\u001b[38;5;124m\"\u001b[39m)\n\u001b[0;32m    228\u001b[0m \u001b[38;5;28;01melse\u001b[39;00m:\n\u001b[0;32m    229\u001b[0m     \u001b[38;5;28;01mif\u001b[39;00m check_unknown:\n",
      "\u001b[1;31mValueError\u001b[0m: y contains previously unseen labels: 'u'"
     ]
    }
   ],
   "source": [
    "encoded_input=[]\n",
    "for col in column:\n",
    "    x=selections.get(col,None)\n",
    "    y=label_encod.get(col,None)\n",
    "    res=y.transform(np.array(x).reshape(1,-1))\n",
    "    encoded_input.append(res)\n",
    "enc_arr=np.array(encoded_input).reshape(1,-1)\n",
    "print(enc_arr)\n",
    "    "
   ]
  },
  {
   "cell_type": "code",
   "execution_count": null,
   "metadata": {},
   "outputs": [],
   "source": [
    "model=model=pickle.load(open('log_reg_on_mushrooms.pkl','rb'))"
   ]
  },
  {
   "cell_type": "code",
   "execution_count": null,
   "metadata": {},
   "outputs": [
    {
     "name": "stdout",
     "output_type": "stream",
     "text": [
      "[0]\n",
      "['e' 'p']\n"
     ]
    },
    {
     "name": "stderr",
     "output_type": "stream",
     "text": [
      "C:\\Users\\DAYABAN\\AppData\\Local\\Packages\\PythonSoftwareFoundation.Python.3.11_qbz5n2kfra8p0\\LocalCache\\local-packages\\Python311\\site-packages\\sklearn\\base.py:493: UserWarning: X does not have valid feature names, but LogisticRegression was fitted with feature names\n",
      "  warnings.warn(\n"
     ]
    }
   ],
   "source": [
    "pred=model.predict(enc_arr)\n",
    "print(pred)\n",
    "print(label_encod['class'].classes_)"
   ]
  },
  {
   "cell_type": "code",
   "execution_count": null,
   "metadata": {},
   "outputs": [],
   "source": [
    "res=label_encod['class'].inverse_transform(pred)"
   ]
  },
  {
   "cell_type": "code",
   "execution_count": null,
   "metadata": {},
   "outputs": [
    {
     "name": "stdout",
     "output_type": "stream",
     "text": [
      "mushroom is edible\n"
     ]
    }
   ],
   "source": [
    "if res==['e']:\n",
    "    print('mushroom is edible')\n",
    "else:\n",
    "    print('mushroom is inedible')"
   ]
  }
 ],
 "metadata": {
  "kernelspec": {
   "display_name": "Python 3",
   "language": "python",
   "name": "python3"
  },
  "language_info": {
   "codemirror_mode": {
    "name": "ipython",
    "version": 3
   },
   "file_extension": ".py",
   "mimetype": "text/x-python",
   "name": "python",
   "nbconvert_exporter": "python",
   "pygments_lexer": "ipython3",
   "version": "3.11.9"
  }
 },
 "nbformat": 4,
 "nbformat_minor": 2
}
